{
 "cells": [
  {
   "cell_type": "code",
   "execution_count": null,
   "id": "ebc13432",
   "metadata": {},
   "outputs": [],
   "source": []
  },
  {
   "cell_type": "markdown",
   "id": "e5c0d77a",
   "metadata": {},
   "source": [
    "# Gas Consumption Predictor\n",
    "This is a python exercise project to get familiar with predicting time series values.\n",
    "I’ll try to apply ARIMA and SARIMA (ARIMAX and SARIMAX), but first I will start with a simple regression.\n",
    "\n",
    "## Steps to consider\n",
    "1. Reading CSV Data\n",
    "    - Old historical weather data\n",
    "    - Recent historical weather data\n",
    "    - Readings of my gas meter over the last years\n",
    "2. Defining the time span for the predictions\n",
    "3. Checking for data integrity\n",
    "    - Is there weather data for every single day in the time span?\n",
    "4. Imputing gas meter readings\n",
    "    - I did the readings very irregularly, with an average distance of… days\n",
    "5. Merging the dataframes on the meter readings’ dates (inner join)\n",
    "6. Feature selection\n",
    "    - For the beginning I will start with the average temperature of the day\n",
    "7. Building a simple regression model\n",
    "    - I’d like to try symbolic regression, just because it’s neat\n",
    "    - But first I’d like to do a linear regression on the temperature\n",
    "8. more to come"
   ]
  },
  {
   "cell_type": "markdown",
   "id": "b7d1bdb2",
   "metadata": {},
   "source": [
    "# Dataset description\n",
    "\n",
    "## Weather data\n",
    "\n",
    "I’d like to only address the used columns here:\n",
    "\n",
    "| Abbreviation | Meaning                                           | Unit | Considered for regression |\n",
    "| ------------ | ------------------------------------------------- | ---- | ------------------------- |\n",
    "| PM           | Average atmospheric pressure over the day         | hpa  | ☑                         |\n",
    "| TNK          | Minimum temperature 2 m above ground over the day | ° C  | ☑                         |\n",
    "| TXK          | Maximum temperature 2 m above ground over the day | ° C  | ☑                         |\n",
    "| TMK          | Average temperature 2 m above ground over the day | ° C  | ☑                         |\n",
    "\n",
    "### Data Source\n",
    "\n",
    "This data is derived from the Deutscher Wetterdienst (German Weather Service).\n",
    "\n",
    "## Gas measurements\n",
    "\n",
    "The measurements are in cubic meters (m^3) and the measurements are cumulative.\n",
    "So the number expresses the total gas used until the measurement date.\n",
    "\n",
    "### Data Source\n",
    "\n",
    "I noted all the measurements myself, the gas volume was measured using an officially calibrated gas meter that is also used for billing.\n"
   ]
  },
  {
   "cell_type": "markdown",
   "id": "a1ac9cbd",
   "metadata": {},
   "source": []
  }
 ],
 "metadata": {
  "kernelspec": {
   "display_name": "base",
   "language": "python",
   "name": "python3"
  },
  "language_info": {
   "codemirror_mode": {
    "name": "ipython",
    "version": 3
   },
   "file_extension": ".py",
   "mimetype": "text/x-python",
   "name": "python",
   "nbconvert_exporter": "python",
   "pygments_lexer": "ipython3",
   "version": "3.12.7"
  }
 },
 "nbformat": 4,
 "nbformat_minor": 5
}
